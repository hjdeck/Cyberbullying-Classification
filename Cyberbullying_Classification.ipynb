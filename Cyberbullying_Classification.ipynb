{
  "nbformat": 4,
  "nbformat_minor": 0,
  "metadata": {
    "colab": {
      "provenance": [],
      "authorship_tag": "ABX9TyNOdR7x40eaJt4WUsU8yagj",
      "include_colab_link": true
    },
    "kernelspec": {
      "name": "python3",
      "display_name": "Python 3"
    },
    "language_info": {
      "name": "python"
    }
  },
  "cells": [
    {
      "cell_type": "markdown",
      "metadata": {
        "id": "view-in-github",
        "colab_type": "text"
      },
      "source": [
        "<a href=\"https://colab.research.google.com/github/hjdeck/Cyberbullying-Classification/blob/main/Cyberbullying_Classification.ipynb\" target=\"_parent\"><img src=\"https://colab.research.google.com/assets/colab-badge.svg\" alt=\"Open In Colab\"/></a>"
      ]
    },
    {
      "cell_type": "markdown",
      "source": [
        "# **Cyberbullying Classification**\n",
        "#### **Objective**: train 3 classification models for cyberbullying tweet classifcation; report and discuss evaluation results\n",
        "## **About Dataset**\n",
        "*cyberbullying_tweets.csv* contains 2 features and 47692 observations\n",
        "- *tweet_text*: predictor variable\n",
        "- *cyberbullying_type*: response variable"
      ],
      "metadata": {
        "id": "7WKsYHI-TNw-"
      }
    },
    {
      "cell_type": "code",
      "execution_count": 6,
      "metadata": {
        "id": "6fLu2ZdlN_TM"
      },
      "outputs": [],
      "source": [
        "import pandas as pd\n",
        "from IPython.display import display"
      ]
    },
    {
      "cell_type": "code",
      "source": [
        "# raw data\n",
        "tweets = pd.read_csv('cyberbullying_tweets.csv')\n",
        "display(tweets)"
      ],
      "metadata": {
        "colab": {
          "base_uri": "https://localhost:8080/",
          "height": 424
        },
        "id": "ek2wolSpOm9A",
        "outputId": "7a24543b-e02e-4e69-fc5f-4046a28ef2d8"
      },
      "execution_count": 7,
      "outputs": [
        {
          "output_type": "display_data",
          "data": {
            "text/plain": [
              "                                              tweet_text cyberbullying_type\n",
              "0      In other words #katandandre, your food was cra...  not_cyberbullying\n",
              "1      Why is #aussietv so white? #MKR #theblock #ImA...  not_cyberbullying\n",
              "2      @XochitlSuckkks a classy whore? Or more red ve...  not_cyberbullying\n",
              "3      @Jason_Gio meh. :P  thanks for the heads up, b...  not_cyberbullying\n",
              "4      @RudhoeEnglish This is an ISIS account pretend...  not_cyberbullying\n",
              "...                                                  ...                ...\n",
              "47687  Black ppl aren't expected to do anything, depe...          ethnicity\n",
              "47688  Turner did not withhold his disappointment. Tu...          ethnicity\n",
              "47689  I swear to God. This dumb nigger bitch. I have...          ethnicity\n",
              "47690  Yea fuck you RT @therealexel: IF YOURE A NIGGE...          ethnicity\n",
              "47691  Bro. U gotta chill RT @CHILLShrammy: Dog FUCK ...          ethnicity\n",
              "\n",
              "[47692 rows x 2 columns]"
            ],
            "text/html": [
              "\n",
              "  <div id=\"df-3a56aa12-a543-4c0e-bed8-c44dfb34790c\">\n",
              "    <div class=\"colab-df-container\">\n",
              "      <div>\n",
              "<style scoped>\n",
              "    .dataframe tbody tr th:only-of-type {\n",
              "        vertical-align: middle;\n",
              "    }\n",
              "\n",
              "    .dataframe tbody tr th {\n",
              "        vertical-align: top;\n",
              "    }\n",
              "\n",
              "    .dataframe thead th {\n",
              "        text-align: right;\n",
              "    }\n",
              "</style>\n",
              "<table border=\"1\" class=\"dataframe\">\n",
              "  <thead>\n",
              "    <tr style=\"text-align: right;\">\n",
              "      <th></th>\n",
              "      <th>tweet_text</th>\n",
              "      <th>cyberbullying_type</th>\n",
              "    </tr>\n",
              "  </thead>\n",
              "  <tbody>\n",
              "    <tr>\n",
              "      <th>0</th>\n",
              "      <td>In other words #katandandre, your food was cra...</td>\n",
              "      <td>not_cyberbullying</td>\n",
              "    </tr>\n",
              "    <tr>\n",
              "      <th>1</th>\n",
              "      <td>Why is #aussietv so white? #MKR #theblock #ImA...</td>\n",
              "      <td>not_cyberbullying</td>\n",
              "    </tr>\n",
              "    <tr>\n",
              "      <th>2</th>\n",
              "      <td>@XochitlSuckkks a classy whore? Or more red ve...</td>\n",
              "      <td>not_cyberbullying</td>\n",
              "    </tr>\n",
              "    <tr>\n",
              "      <th>3</th>\n",
              "      <td>@Jason_Gio meh. :P  thanks for the heads up, b...</td>\n",
              "      <td>not_cyberbullying</td>\n",
              "    </tr>\n",
              "    <tr>\n",
              "      <th>4</th>\n",
              "      <td>@RudhoeEnglish This is an ISIS account pretend...</td>\n",
              "      <td>not_cyberbullying</td>\n",
              "    </tr>\n",
              "    <tr>\n",
              "      <th>...</th>\n",
              "      <td>...</td>\n",
              "      <td>...</td>\n",
              "    </tr>\n",
              "    <tr>\n",
              "      <th>47687</th>\n",
              "      <td>Black ppl aren't expected to do anything, depe...</td>\n",
              "      <td>ethnicity</td>\n",
              "    </tr>\n",
              "    <tr>\n",
              "      <th>47688</th>\n",
              "      <td>Turner did not withhold his disappointment. Tu...</td>\n",
              "      <td>ethnicity</td>\n",
              "    </tr>\n",
              "    <tr>\n",
              "      <th>47689</th>\n",
              "      <td>I swear to God. This dumb nigger bitch. I have...</td>\n",
              "      <td>ethnicity</td>\n",
              "    </tr>\n",
              "    <tr>\n",
              "      <th>47690</th>\n",
              "      <td>Yea fuck you RT @therealexel: IF YOURE A NIGGE...</td>\n",
              "      <td>ethnicity</td>\n",
              "    </tr>\n",
              "    <tr>\n",
              "      <th>47691</th>\n",
              "      <td>Bro. U gotta chill RT @CHILLShrammy: Dog FUCK ...</td>\n",
              "      <td>ethnicity</td>\n",
              "    </tr>\n",
              "  </tbody>\n",
              "</table>\n",
              "<p>47692 rows × 2 columns</p>\n",
              "</div>\n",
              "      <button class=\"colab-df-convert\" onclick=\"convertToInteractive('df-3a56aa12-a543-4c0e-bed8-c44dfb34790c')\"\n",
              "              title=\"Convert this dataframe to an interactive table.\"\n",
              "              style=\"display:none;\">\n",
              "        \n",
              "  <svg xmlns=\"http://www.w3.org/2000/svg\" height=\"24px\"viewBox=\"0 0 24 24\"\n",
              "       width=\"24px\">\n",
              "    <path d=\"M0 0h24v24H0V0z\" fill=\"none\"/>\n",
              "    <path d=\"M18.56 5.44l.94 2.06.94-2.06 2.06-.94-2.06-.94-.94-2.06-.94 2.06-2.06.94zm-11 1L8.5 8.5l.94-2.06 2.06-.94-2.06-.94L8.5 2.5l-.94 2.06-2.06.94zm10 10l.94 2.06.94-2.06 2.06-.94-2.06-.94-.94-2.06-.94 2.06-2.06.94z\"/><path d=\"M17.41 7.96l-1.37-1.37c-.4-.4-.92-.59-1.43-.59-.52 0-1.04.2-1.43.59L10.3 9.45l-7.72 7.72c-.78.78-.78 2.05 0 2.83L4 21.41c.39.39.9.59 1.41.59.51 0 1.02-.2 1.41-.59l7.78-7.78 2.81-2.81c.8-.78.8-2.07 0-2.86zM5.41 20L4 18.59l7.72-7.72 1.47 1.35L5.41 20z\"/>\n",
              "  </svg>\n",
              "      </button>\n",
              "      \n",
              "  <style>\n",
              "    .colab-df-container {\n",
              "      display:flex;\n",
              "      flex-wrap:wrap;\n",
              "      gap: 12px;\n",
              "    }\n",
              "\n",
              "    .colab-df-convert {\n",
              "      background-color: #E8F0FE;\n",
              "      border: none;\n",
              "      border-radius: 50%;\n",
              "      cursor: pointer;\n",
              "      display: none;\n",
              "      fill: #1967D2;\n",
              "      height: 32px;\n",
              "      padding: 0 0 0 0;\n",
              "      width: 32px;\n",
              "    }\n",
              "\n",
              "    .colab-df-convert:hover {\n",
              "      background-color: #E2EBFA;\n",
              "      box-shadow: 0px 1px 2px rgba(60, 64, 67, 0.3), 0px 1px 3px 1px rgba(60, 64, 67, 0.15);\n",
              "      fill: #174EA6;\n",
              "    }\n",
              "\n",
              "    [theme=dark] .colab-df-convert {\n",
              "      background-color: #3B4455;\n",
              "      fill: #D2E3FC;\n",
              "    }\n",
              "\n",
              "    [theme=dark] .colab-df-convert:hover {\n",
              "      background-color: #434B5C;\n",
              "      box-shadow: 0px 1px 3px 1px rgba(0, 0, 0, 0.15);\n",
              "      filter: drop-shadow(0px 1px 2px rgba(0, 0, 0, 0.3));\n",
              "      fill: #FFFFFF;\n",
              "    }\n",
              "  </style>\n",
              "\n",
              "      <script>\n",
              "        const buttonEl =\n",
              "          document.querySelector('#df-3a56aa12-a543-4c0e-bed8-c44dfb34790c button.colab-df-convert');\n",
              "        buttonEl.style.display =\n",
              "          google.colab.kernel.accessAllowed ? 'block' : 'none';\n",
              "\n",
              "        async function convertToInteractive(key) {\n",
              "          const element = document.querySelector('#df-3a56aa12-a543-4c0e-bed8-c44dfb34790c');\n",
              "          const dataTable =\n",
              "            await google.colab.kernel.invokeFunction('convertToInteractive',\n",
              "                                                     [key], {});\n",
              "          if (!dataTable) return;\n",
              "\n",
              "          const docLinkHtml = 'Like what you see? Visit the ' +\n",
              "            '<a target=\"_blank\" href=https://colab.research.google.com/notebooks/data_table.ipynb>data table notebook</a>'\n",
              "            + ' to learn more about interactive tables.';\n",
              "          element.innerHTML = '';\n",
              "          dataTable['output_type'] = 'display_data';\n",
              "          await google.colab.output.renderOutput(dataTable, element);\n",
              "          const docLink = document.createElement('div');\n",
              "          docLink.innerHTML = docLinkHtml;\n",
              "          element.appendChild(docLink);\n",
              "        }\n",
              "      </script>\n",
              "    </div>\n",
              "  </div>\n",
              "  "
            ]
          },
          "metadata": {}
        }
      ]
    },
    {
      "cell_type": "markdown",
      "source": [
        "# **Text Preprocessing**\n",
        "- normalizing text\n",
        "- removing unicode characters\n",
        "- removing stopwords\n",
        "- stemming/lemmatization\n"
      ],
      "metadata": {
        "id": "LmRGoztEUUfK"
      }
    },
    {
      "cell_type": "code",
      "source": [
        "import re\n",
        "from wordcloud import STOPWORDS\n",
        "\n",
        "import nltk\n",
        "nltk.download('wordnet')\n",
        "nltk.download('omw-1.4')\n",
        "from nltk.stem import WordNetLemmatizer"
      ],
      "metadata": {
        "colab": {
          "base_uri": "https://localhost:8080/"
        },
        "id": "icnGde8uunp7",
        "outputId": "d08b8443-272c-45ce-f586-52d51531761a"
      },
      "execution_count": 8,
      "outputs": [
        {
          "output_type": "stream",
          "name": "stderr",
          "text": [
            "[nltk_data] Downloading package wordnet to /root/nltk_data...\n",
            "[nltk_data] Downloading package omw-1.4 to /root/nltk_data...\n"
          ]
        }
      ]
    },
    {
      "cell_type": "code",
      "source": [
        "# Text Cleaning\n",
        "TEXT_CLEANING_RE = \"@\\S+|https?:\\S+|http?:\\S|[^A-Za-z0-9]+\"\n",
        "STOPWORDS.update(['rt', 'mkr', 'didn', 'bc', 'n', 'm', 'im', 'll', 'y', 've', 'u', 'ur', 'don', 't', 's'])\n",
        "\n",
        "def lower(text):\n",
        "    return text.lower()\n",
        "\n",
        "def remove_twitter(text):\n",
        "    return re.sub(TEXT_CLEANING_RE, ' ', text)\n",
        "\n",
        "def remove_stopwords(text):\n",
        "    return \" \".join([word for word in str(text).split() if word not in STOPWORDS])\n",
        "\n",
        "def clean_text(text):\n",
        "    text = lower(text)\n",
        "    text = remove_twitter(text)\n",
        "    text = remove_stopwords(text)\n",
        "    return text\n",
        "\n",
        "# Lemmatization\n",
        "lemmatizer = WordNetLemmatizer()\n",
        "def lemmatize_words(text):\n",
        "    words = text.split()\n",
        "    words = [lemmatizer.lemmatize(word,pos='v') for word in words]\n",
        "    return ' '.join(words)"
      ],
      "metadata": {
        "id": "ifh7ATvfVjta"
      },
      "execution_count": 9,
      "outputs": []
    },
    {
      "cell_type": "code",
      "source": [
        "# preprocessed data\n",
        "tweets['tweet_text'] = tweets['tweet_text'].apply(clean_text)\n",
        "tweets['tweet_text'] = tweets['tweet_text'].apply(lemmatize_words)\n",
        "display(tweets)"
      ],
      "metadata": {
        "colab": {
          "base_uri": "https://localhost:8080/",
          "height": 424
        },
        "id": "E8jMzgSZXJe0",
        "outputId": "b1be5953-a705-4eab-81d2-7bf3985355a5"
      },
      "execution_count": 10,
      "outputs": [
        {
          "output_type": "display_data",
          "data": {
            "text/plain": [
              "                                              tweet_text cyberbullying_type\n",
              "0                     word katandandre food crapilicious  not_cyberbullying\n",
              "1      aussietv white theblock imacelebrityau today s...  not_cyberbullying\n",
              "2                       classy whore red velvet cupcakes  not_cyberbullying\n",
              "3      meh p thank head concern another angry dude tw...  not_cyberbullying\n",
              "4         isis account pretend kurdish account islam lie  not_cyberbullying\n",
              "...                                                  ...                ...\n",
              "47687  black ppl aren expect anything depend anything...          ethnicity\n",
              "47688  turner withhold disappointment turner call cou...          ethnicity\n",
              "47689  swear god dumb nigger bitch get bleach hair re...          ethnicity\n",
              "47690  yea fuck therealexel youre nigger fuck unfollo...          ethnicity\n",
              "47691  bro gotta chill chillshrammy dog fuck kp dumb ...          ethnicity\n",
              "\n",
              "[47692 rows x 2 columns]"
            ],
            "text/html": [
              "\n",
              "  <div id=\"df-74f7f500-f3ca-471a-8fc1-cfa9cf8b92f5\">\n",
              "    <div class=\"colab-df-container\">\n",
              "      <div>\n",
              "<style scoped>\n",
              "    .dataframe tbody tr th:only-of-type {\n",
              "        vertical-align: middle;\n",
              "    }\n",
              "\n",
              "    .dataframe tbody tr th {\n",
              "        vertical-align: top;\n",
              "    }\n",
              "\n",
              "    .dataframe thead th {\n",
              "        text-align: right;\n",
              "    }\n",
              "</style>\n",
              "<table border=\"1\" class=\"dataframe\">\n",
              "  <thead>\n",
              "    <tr style=\"text-align: right;\">\n",
              "      <th></th>\n",
              "      <th>tweet_text</th>\n",
              "      <th>cyberbullying_type</th>\n",
              "    </tr>\n",
              "  </thead>\n",
              "  <tbody>\n",
              "    <tr>\n",
              "      <th>0</th>\n",
              "      <td>word katandandre food crapilicious</td>\n",
              "      <td>not_cyberbullying</td>\n",
              "    </tr>\n",
              "    <tr>\n",
              "      <th>1</th>\n",
              "      <td>aussietv white theblock imacelebrityau today s...</td>\n",
              "      <td>not_cyberbullying</td>\n",
              "    </tr>\n",
              "    <tr>\n",
              "      <th>2</th>\n",
              "      <td>classy whore red velvet cupcakes</td>\n",
              "      <td>not_cyberbullying</td>\n",
              "    </tr>\n",
              "    <tr>\n",
              "      <th>3</th>\n",
              "      <td>meh p thank head concern another angry dude tw...</td>\n",
              "      <td>not_cyberbullying</td>\n",
              "    </tr>\n",
              "    <tr>\n",
              "      <th>4</th>\n",
              "      <td>isis account pretend kurdish account islam lie</td>\n",
              "      <td>not_cyberbullying</td>\n",
              "    </tr>\n",
              "    <tr>\n",
              "      <th>...</th>\n",
              "      <td>...</td>\n",
              "      <td>...</td>\n",
              "    </tr>\n",
              "    <tr>\n",
              "      <th>47687</th>\n",
              "      <td>black ppl aren expect anything depend anything...</td>\n",
              "      <td>ethnicity</td>\n",
              "    </tr>\n",
              "    <tr>\n",
              "      <th>47688</th>\n",
              "      <td>turner withhold disappointment turner call cou...</td>\n",
              "      <td>ethnicity</td>\n",
              "    </tr>\n",
              "    <tr>\n",
              "      <th>47689</th>\n",
              "      <td>swear god dumb nigger bitch get bleach hair re...</td>\n",
              "      <td>ethnicity</td>\n",
              "    </tr>\n",
              "    <tr>\n",
              "      <th>47690</th>\n",
              "      <td>yea fuck therealexel youre nigger fuck unfollo...</td>\n",
              "      <td>ethnicity</td>\n",
              "    </tr>\n",
              "    <tr>\n",
              "      <th>47691</th>\n",
              "      <td>bro gotta chill chillshrammy dog fuck kp dumb ...</td>\n",
              "      <td>ethnicity</td>\n",
              "    </tr>\n",
              "  </tbody>\n",
              "</table>\n",
              "<p>47692 rows × 2 columns</p>\n",
              "</div>\n",
              "      <button class=\"colab-df-convert\" onclick=\"convertToInteractive('df-74f7f500-f3ca-471a-8fc1-cfa9cf8b92f5')\"\n",
              "              title=\"Convert this dataframe to an interactive table.\"\n",
              "              style=\"display:none;\">\n",
              "        \n",
              "  <svg xmlns=\"http://www.w3.org/2000/svg\" height=\"24px\"viewBox=\"0 0 24 24\"\n",
              "       width=\"24px\">\n",
              "    <path d=\"M0 0h24v24H0V0z\" fill=\"none\"/>\n",
              "    <path d=\"M18.56 5.44l.94 2.06.94-2.06 2.06-.94-2.06-.94-.94-2.06-.94 2.06-2.06.94zm-11 1L8.5 8.5l.94-2.06 2.06-.94-2.06-.94L8.5 2.5l-.94 2.06-2.06.94zm10 10l.94 2.06.94-2.06 2.06-.94-2.06-.94-.94-2.06-.94 2.06-2.06.94z\"/><path d=\"M17.41 7.96l-1.37-1.37c-.4-.4-.92-.59-1.43-.59-.52 0-1.04.2-1.43.59L10.3 9.45l-7.72 7.72c-.78.78-.78 2.05 0 2.83L4 21.41c.39.39.9.59 1.41.59.51 0 1.02-.2 1.41-.59l7.78-7.78 2.81-2.81c.8-.78.8-2.07 0-2.86zM5.41 20L4 18.59l7.72-7.72 1.47 1.35L5.41 20z\"/>\n",
              "  </svg>\n",
              "      </button>\n",
              "      \n",
              "  <style>\n",
              "    .colab-df-container {\n",
              "      display:flex;\n",
              "      flex-wrap:wrap;\n",
              "      gap: 12px;\n",
              "    }\n",
              "\n",
              "    .colab-df-convert {\n",
              "      background-color: #E8F0FE;\n",
              "      border: none;\n",
              "      border-radius: 50%;\n",
              "      cursor: pointer;\n",
              "      display: none;\n",
              "      fill: #1967D2;\n",
              "      height: 32px;\n",
              "      padding: 0 0 0 0;\n",
              "      width: 32px;\n",
              "    }\n",
              "\n",
              "    .colab-df-convert:hover {\n",
              "      background-color: #E2EBFA;\n",
              "      box-shadow: 0px 1px 2px rgba(60, 64, 67, 0.3), 0px 1px 3px 1px rgba(60, 64, 67, 0.15);\n",
              "      fill: #174EA6;\n",
              "    }\n",
              "\n",
              "    [theme=dark] .colab-df-convert {\n",
              "      background-color: #3B4455;\n",
              "      fill: #D2E3FC;\n",
              "    }\n",
              "\n",
              "    [theme=dark] .colab-df-convert:hover {\n",
              "      background-color: #434B5C;\n",
              "      box-shadow: 0px 1px 3px 1px rgba(0, 0, 0, 0.15);\n",
              "      filter: drop-shadow(0px 1px 2px rgba(0, 0, 0, 0.3));\n",
              "      fill: #FFFFFF;\n",
              "    }\n",
              "  </style>\n",
              "\n",
              "      <script>\n",
              "        const buttonEl =\n",
              "          document.querySelector('#df-74f7f500-f3ca-471a-8fc1-cfa9cf8b92f5 button.colab-df-convert');\n",
              "        buttonEl.style.display =\n",
              "          google.colab.kernel.accessAllowed ? 'block' : 'none';\n",
              "\n",
              "        async function convertToInteractive(key) {\n",
              "          const element = document.querySelector('#df-74f7f500-f3ca-471a-8fc1-cfa9cf8b92f5');\n",
              "          const dataTable =\n",
              "            await google.colab.kernel.invokeFunction('convertToInteractive',\n",
              "                                                     [key], {});\n",
              "          if (!dataTable) return;\n",
              "\n",
              "          const docLinkHtml = 'Like what you see? Visit the ' +\n",
              "            '<a target=\"_blank\" href=https://colab.research.google.com/notebooks/data_table.ipynb>data table notebook</a>'\n",
              "            + ' to learn more about interactive tables.';\n",
              "          element.innerHTML = '';\n",
              "          dataTable['output_type'] = 'display_data';\n",
              "          await google.colab.output.renderOutput(dataTable, element);\n",
              "          const docLink = document.createElement('div');\n",
              "          docLink.innerHTML = docLinkHtml;\n",
              "          element.appendChild(docLink);\n",
              "        }\n",
              "      </script>\n",
              "    </div>\n",
              "  </div>\n",
              "  "
            ]
          },
          "metadata": {}
        }
      ]
    },
    {
      "cell_type": "markdown",
      "source": [
        "# **Model Training**\n",
        "The dataset is split into 70% training and 30% testing. The models considered are:\n",
        "- Multinomial Naive Bayes\n",
        "- Random Forest\n",
        "- Linear Support Vector Machine\n",
        "- Logistic Regression\n",
        "- RNN\n"
      ],
      "metadata": {
        "id": "cFv1xfn42OB1"
      }
    },
    {
      "cell_type": "code",
      "source": [
        "from sklearn.model_selection import train_test_split\n",
        "\n",
        "from sklearn.pipeline import make_pipeline\n",
        "from sklearn.feature_extraction.text import TfidfVectorizer\n",
        "from sklearn.preprocessing import StandardScaler"
      ],
      "metadata": {
        "id": "6XQ59R4e2VmD"
      },
      "execution_count": 11,
      "outputs": []
    },
    {
      "cell_type": "code",
      "source": [
        "# Splitting training/testing data\n",
        "train_data, test_data = train_test_split(tweets, test_size = 0.3, random_state = 1)"
      ],
      "metadata": {
        "id": "pizj1_mb2_UJ"
      },
      "execution_count": 12,
      "outputs": []
    },
    {
      "cell_type": "markdown",
      "source": [
        "# **Naive Bayes Classifier**\n",
        "## Optimization\n",
        "- train on n-grams"
      ],
      "metadata": {
        "id": "z2kOYSttYZAa"
      }
    },
    {
      "cell_type": "code",
      "source": [
        "from sklearn.naive_bayes import MultinomialNB\n",
        "\n",
        "# Naive Bayes Model\n",
        "MNB_model = make_pipeline(TfidfVectorizer(), MultinomialNB())\n",
        "\n",
        "# Trained model on training data\n",
        "MNB_model.fit(train_data.tweet_text, train_data.cyberbullying_type)\n",
        "\n",
        "# Predicted labels of test data\n",
        "MNB_labels = MNB_model.predict(test_data.tweet_text)"
      ],
      "metadata": {
        "id": "OHYNnOK9b8AG"
      },
      "execution_count": 13,
      "outputs": []
    },
    {
      "cell_type": "markdown",
      "source": [
        "# **Random Forest**\n"
      ],
      "metadata": {
        "id": "lY1_XyOcAXYD"
      }
    },
    {
      "cell_type": "code",
      "source": [
        "from sklearn.ensemble import RandomForestClassifier\n",
        "\n",
        "# Random Forest Model (n = 10)\n",
        "RF_model = make_pipeline(TfidfVectorizer(), RandomForestClassifier(n_estimators = 10, criterion = 'entropy', random_state = 1))\n",
        "\n",
        "# Trained model on training data\n",
        "RF_model.fit(train_data.tweet_text, train_data.cyberbullying_type)\n",
        "\n",
        "# Predicted labels of test data\n",
        "RF_labels = RF_model.predict(test_data.tweet_text)"
      ],
      "metadata": {
        "id": "Z6h8f9KIAjQL"
      },
      "execution_count": 14,
      "outputs": []
    },
    {
      "cell_type": "markdown",
      "source": [
        "# **Linear Support Vector Machine**"
      ],
      "metadata": {
        "id": "7rA4ql5U6wCI"
      }
    },
    {
      "cell_type": "code",
      "source": [
        "from sklearn.linear_model import SGDClassifier\n",
        "\n",
        "SVM_model = make_pipeline(TfidfVectorizer(), SGDClassifier(loss = 'hinge', random_state = 1, max_iter = 5, tol = None))\n",
        "\n",
        "SVM_model.fit(train_data.tweet_text, train_data.cyberbullying_type)\n",
        "\n",
        "SVM_labels = SVM_model.predict(test_data.tweet_text)"
      ],
      "metadata": {
        "id": "uPpWYuSR6zQX"
      },
      "execution_count": 15,
      "outputs": []
    },
    {
      "cell_type": "markdown",
      "source": [
        "# **Logistic Regression**"
      ],
      "metadata": {
        "id": "rSk4RplS87-x"
      }
    },
    {
      "cell_type": "code",
      "source": [
        "from sklearn.linear_model import LogisticRegression\n",
        "\n",
        "LR_model = make_pipeline(TfidfVectorizer(), LogisticRegression(max_iter = 1000))\n",
        "\n",
        "LR_model.fit(train_data.tweet_text, train_data.cyberbullying_type)\n",
        "\n",
        "LR_labels = LR_model.predict(test_data.tweet_text)"
      ],
      "metadata": {
        "id": "fIdzTWLp9A3r"
      },
      "execution_count": 20,
      "outputs": []
    },
    {
      "cell_type": "markdown",
      "source": [
        "# **Recurrent Neural Network (RNN)**"
      ],
      "metadata": {
        "id": "HF3_byzIjtIB"
      }
    },
    {
      "cell_type": "code",
      "source": [],
      "metadata": {
        "id": "VlfZWTTFMjoq"
      },
      "execution_count": 15,
      "outputs": []
    },
    {
      "cell_type": "markdown",
      "source": [
        "# **Model Evaluation**\n",
        "The following metrics are used to evaluate model performance:\n",
        "- **Accuracy Score**: proportion of correctly classified instances\n",
        "- **Precision**: ratio of correct positive predictions to total positive predictions\n",
        "- **Recall**: ratio of correct positive predictions to all observations in actual class\n",
        "- **F1**: weighted average of precision & recall\n",
        "- **ROC-AUC curve**: measure of capability for model to distinguish classes\n",
        "- **Confusion Matrix**: counts of class confusion by classifier predictions"
      ],
      "metadata": {
        "id": "MoDJxUPq35kf"
      }
    },
    {
      "cell_type": "code",
      "source": [
        "from sklearn import metrics\n",
        "import matplotlib.pyplot as plt"
      ],
      "metadata": {
        "id": "p2UB1mB7YhMn"
      },
      "execution_count": 25,
      "outputs": []
    },
    {
      "cell_type": "code",
      "source": [
        "# classification report\n",
        "print('Multinomial Naive Bayes')\n",
        "print(metrics.classification_report(test_data.cyberbullying_type, MNB_labels, \n",
        "                                    target_names = tweets['cyberbullying_type'].unique()))\n",
        "\n",
        "print('\\nRandom Forest')\n",
        "print(metrics.classification_report(test_data.cyberbullying_type, RF_labels, \n",
        "                                    target_names = tweets['cyberbullying_type'].unique()))\n",
        "\n",
        "print('\\nLinear Support Vector Machine')\n",
        "print(metrics.classification_report(test_data.cyberbullying_type, SVM_labels, \n",
        "                                    target_names = tweets['cyberbullying_type'].unique()))\n",
        "\n",
        "print('\\nLogistic Regression')\n",
        "print(metrics.classification_report(test_data.cyberbullying_type, LR_labels, \n",
        "                                    target_names = tweets['cyberbullying_type'].unique()))"
      ],
      "metadata": {
        "colab": {
          "base_uri": "https://localhost:8080/"
        },
        "id": "HvKlqcYo7rx5",
        "outputId": "290645ac-c221-4430-d1fb-2776c2d97a97"
      },
      "execution_count": 24,
      "outputs": [
        {
          "output_type": "stream",
          "name": "stdout",
          "text": [
            "Multinomial Naive Bayes\n",
            "                     precision    recall  f1-score   support\n",
            "\n",
            "  not_cyberbullying       0.67      0.98      0.80      2423\n",
            "             gender       0.78      0.91      0.84      2350\n",
            "           religion       0.82      0.84      0.83      2384\n",
            "other_cyberbullying       0.71      0.31      0.43      2430\n",
            "                age       0.63      0.42      0.50      2290\n",
            "          ethnicity       0.80      0.97      0.88      2431\n",
            "\n",
            "           accuracy                           0.74     14308\n",
            "          macro avg       0.73      0.74      0.71     14308\n",
            "       weighted avg       0.73      0.74      0.71     14308\n",
            "\n",
            "\n",
            "Random Forest\n",
            "                     precision    recall  f1-score   support\n",
            "\n",
            "  not_cyberbullying       0.95      0.97      0.96      2423\n",
            "             gender       0.97      0.97      0.97      2350\n",
            "           religion       0.87      0.84      0.86      2384\n",
            "other_cyberbullying       0.52      0.48      0.50      2430\n",
            "                age       0.50      0.56      0.53      2290\n",
            "          ethnicity       0.94      0.91      0.93      2431\n",
            "\n",
            "           accuracy                           0.79     14308\n",
            "          macro avg       0.79      0.79      0.79     14308\n",
            "       weighted avg       0.79      0.79      0.79     14308\n",
            "\n",
            "\n",
            "Linear Support Vector Machine\n",
            "                     precision    recall  f1-score   support\n",
            "\n",
            "  not_cyberbullying       0.93      0.99      0.96      2423\n",
            "             gender       0.94      0.98      0.96      2350\n",
            "           religion       0.88      0.88      0.88      2384\n",
            "other_cyberbullying       0.66      0.47      0.55      2430\n",
            "                age       0.60      0.69      0.64      2290\n",
            "          ethnicity       0.91      0.96      0.94      2431\n",
            "\n",
            "           accuracy                           0.83     14308\n",
            "          macro avg       0.82      0.83      0.82     14308\n",
            "       weighted avg       0.82      0.83      0.82     14308\n",
            "\n",
            "\n",
            "Logistic Regression\n",
            "                     precision    recall  f1-score   support\n",
            "\n",
            "  not_cyberbullying       0.94      0.97      0.96      2423\n",
            "             gender       0.97      0.98      0.97      2350\n",
            "           religion       0.91      0.85      0.88      2384\n",
            "other_cyberbullying       0.58      0.54      0.56      2430\n",
            "                age       0.58      0.65      0.62      2290\n",
            "          ethnicity       0.95      0.94      0.94      2431\n",
            "\n",
            "           accuracy                           0.82     14308\n",
            "          macro avg       0.82      0.82      0.82     14308\n",
            "       weighted avg       0.82      0.82      0.82     14308\n",
            "\n"
          ]
        }
      ]
    },
    {
      "cell_type": "code",
      "source": [
        "# confusion matrix\n",
        "MNB_cm = metrics.confusion_matrix(test_data.cyberbullying_type, MNB_labels, labels = MNB_model.classes_)\n",
        "MNB_cmd = metrics.ConfusionMatrixDisplay(confusion_matrix = MNB_cm, display_labels = MNB_model.classes_)\n",
        "MNB_cmd.plot()\n",
        "MNB_cmd.ax_.set(title = 'Multinomial Naive Bayes')\n",
        "\n",
        "RF_cm = metrics.confusion_matrix(test_data.cyberbullying_type, RF_labels, labels = RF_model.classes_)\n",
        "RF_cmd = metrics.ConfusionMatrixDisplay(confusion_matrix = RF_cm, display_labels = RF_model.classes_)\n",
        "RF_cmd.plot()\n",
        "RF_cmd.ax_.set(title = 'Random Forest')\n",
        "\n",
        "SVM_cm = metrics.confusion_matrix(test_data.cyberbullying_type, SVM_labels, labels = SVM_model.classes_)\n",
        "SVM_cmd = metrics.ConfusionMatrixDisplay(confusion_matrix = SVM_cm, display_labels = SVM_model.classes_)\n",
        "SVM_cmd.plot()\n",
        "SVM_cmd.ax_.set(title = 'Linear Support Vector Machine')\n",
        "\n",
        "LR_cm = metrics.confusion_matrix(test_data.cyberbullying_type, LR_labels, labels = LR_model.classes_)\n",
        "LR_cmd = metrics.ConfusionMatrixDisplay(confusion_matrix = LR_cm, display_labels = LR_model.classes_)\n",
        "LR_cmd.plot()\n",
        "LR_cmd.ax_.set(title = 'Logistic Regression')"
      ],
      "metadata": {
        "colab": {
          "base_uri": "https://localhost:8080/",
          "height": 1000
        },
        "id": "9557PkSvGedH",
        "outputId": "9fc9d5aa-e213-4ed4-c1f0-19a7fa039c22"
      },
      "execution_count": 32,
      "outputs": [
        {
          "output_type": "execute_result",
          "data": {
            "text/plain": [
              "[Text(0.5, 1.0, 'Logistic Regression')]"
            ]
          },
          "metadata": {},
          "execution_count": 32
        },
        {
          "output_type": "display_data",
          "data": {
            "text/plain": [
              "<Figure size 432x288 with 2 Axes>"
            ],
            "image/png": "[encoded data removed]"
          },
          "metadata": {
            "needs_background": "light"
          }
        },
        {
          "output_type": "display_data",
          "data": {
            "text/plain": [
              "<Figure size 432x288 with 2 Axes>"
            ],
            "image/png": "[encoded data removed]"
          },
          "metadata": {
            "needs_background": "light"
          }
        },
        {
          "output_type": "display_data",
          "data": {
            "text/plain": [
              "<Figure size 432x288 with 2 Axes>"
            ],
            "image/png": "[encoded data removed]"
          },
          "metadata": {
            "needs_background": "light"
          }
        },
        {
          "output_type": "display_data",
          "data": {
            "text/plain": [
              "<Figure size 432x288 with 2 Axes>"
            ],
            "image/png": "[encoded data removed]"
          },
          "metadata": {
            "needs_background": "light"
          }
        }
      ]
    }
  ]
}